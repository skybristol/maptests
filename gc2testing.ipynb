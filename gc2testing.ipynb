{
 "cells": [
  {
   "cell_type": "markdown",
   "metadata": {},
   "source": [
    "# Title: GC2 testing                                                                                                                                                                                                                       "
   ]
  },
  {
   "cell_type": "markdown",
   "metadata": {},
   "source": [
    "# Abstract: Testing the use of data from gc2 web app to be used in an analysis."
   ]
  },
  {
   "cell_type": "markdown",
   "metadata": {},
   "source": [
    "# Contact Information: Daniel Wieferich (dwieferich@usgs.gov)                                                                                                                                                                                                                       "
   ]
  },
  {
   "cell_type": "markdown",
   "metadata": {},
   "source": [
    "# Date: 20170224"
   ]
  },
  {
   "cell_type": "markdown",
   "metadata": {},
   "source": [
    "# Import libraries"
   ]
  },
  {
   "cell_type": "code",
   "execution_count": 109,
   "metadata": {
    "collapsed": false
   },
   "outputs": [],
   "source": [
    "import json, requests\n",
    "from pprint import pprint"
   ]
  },
  {
   "cell_type": "code",
   "execution_count": 110,
   "metadata": {
    "collapsed": false,
    "scrolled": true
   },
   "outputs": [
    {
     "name": "stdout",
     "output_type": "stream",
     "text": [
      "a6bba27a-ea49-11e6-9dda-6f223c9e40e9\n",
      "a6bd9e54-ea49-11e6-9dde-f3016d8ddba6\n"
     ]
    }
   ],
   "source": [
    "url = \"https://gc2.mapcentia.com/api/v1/sql/dwief?q=select featureuri from tstnad where featureuri = 'a6bba27a-ea49-11e6-9dda-6f223c9e40e9' or featureuri = 'a6bd9e54-ea49-11e6-9dde-f3016d8ddba6'\"\n",
    "\n",
    "r = requests.get(url=url)\n",
    "data = json.loads(r.text)\n",
    "#feat = data['features']\n",
    "#pprint(data)\n",
    "\n",
    "for feature in data['features']:\n",
    "    print feature['properties']['featureuri']\n",
    "\n"
   ]
  },
  {
   "cell_type": "markdown",
   "metadata": {},
   "source": [
    "#=========================================================================================================\n",
    "\n",
    "#Here on below document how to export data from postgresql into geojson to be harvested into gc2...\n",
    "#we need to look into ways of pushing this data directly into gc2"
   ]
  },
  {
   "cell_type": "code",
   "execution_count": null,
   "metadata": {
    "collapsed": true
   },
   "outputs": [],
   "source": [
    "import psycopg2\n",
    "import geopandas as gpd\n",
    "import getpass\n",
    "import psycopg2.extras\n",
    "import pandas as pd\n",
    "import numpy as np\n",
    "import time\n",
    "\n",
    "password = getpass.getpass('PostGreSQL Password: ')\n",
    "database = raw_input('PostGreSQL Database: ')\n",
    "username = raw_input('User Name: ')\n",
    "conn_string = \"host='localhost' dbname=\" + str(database) + \" user=\" + str(username) + \" password=\" + str(password)"
   ]
  },
  {
   "cell_type": "code",
   "execution_count": null,
   "metadata": {
    "collapsed": true
   },
   "outputs": [],
   "source": [
    "start_time = time.time()\n",
    "conn= psycopg2.connect(conn_string)\n",
    "\n",
    "ftyped = raw_input('Enter Analytical Unit Feature Type: Use ftyped from Spatial Features Registry (e.g. Level 3 Ecoregions = https://www.sciencebase.gov/vocab/term/582226c5e4b0b3d9add24306):')\n",
    "\n",
    "# Analytical Unit of interest, as selected by user in application, this example will use Omernick Level 3 Ecoregions \n",
    "sql1 = \"\"\"select * FROM public.sfr_poly where ftyped='https://www.sciencebase.gov/vocab/term/582226c5e4b0b3d9add24306';\"\"\"\n",
    "sql1_df=gpd.GeoDataFrame.from_postgis(sql_select,conn,geom_col='geometry',crs=4269)\n",
    "\n",
    "\n",
    "\n",
    "# NHDPlusV1 midpoints with NFHP HCI data and NHDPlusV1 data needed for length-weighted average \n",
    "#sql3 = \"\"\"select * from nhd.nhdflowline where comid in ('4222362','4222372','4222384','23141367','23141369','23141371');\"\"\"\n",
    "#sql3_df= pd.DataFrame.from_postgis(sql3,conn)\n",
    "\n",
    "#Print time process takes\n",
    "print(\"--- %s minutes to create geodataframes from sql queries ---\" % ((time.time() - start_time)/60))"
   ]
  },
  {
   "cell_type": "code",
   "execution_count": 29,
   "metadata": {
    "collapsed": false
   },
   "outputs": [],
   "source": [
    "sql1_df.to_file(\"C:/dw/tstnad.geojson\", driver='GeoJSON')\n",
    "sql2_df.to_csv(\"C:/dw/nhdplusv1_flowmid.csv\", index=False)\n",
    "sql3_df.to_csv(\"C:/dw/nhdplusv1_flowline.csv\", index=False)"
   ]
  },
  {
   "cell_type": "code",
   "execution_count": null,
   "metadata": {
    "collapsed": false
   },
   "outputs": [],
   "source": [
    "#NAD83, initially export to geojson was giving an error, run this to resolve\n",
    "#spatialunit_df.crs = {'init':'epsg:4269'}"
   ]
  },
  {
   "cell_type": "code",
   "execution_count": 23,
   "metadata": {
    "collapsed": false
   },
   "outputs": [
    {
     "data": {
      "text/plain": [
       "{'ARCGEN': 'r',\n",
       " 'AeronavFAA': 'r',\n",
       " 'BNA': 'raw',\n",
       " 'DGN': 'raw',\n",
       " 'DXF': 'raw',\n",
       " 'ESRI Shapefile': 'raw',\n",
       " 'GPSTrackMaker': 'raw',\n",
       " 'GPX': 'raw',\n",
       " 'GeoJSON': 'rw',\n",
       " 'Idrisi': 'r',\n",
       " 'MapInfo File': 'raw',\n",
       " 'OpenFileGDB': 'r',\n",
       " 'PCIDSK': 'r',\n",
       " 'SEGY': 'r',\n",
       " 'SUA': 'r'}"
      ]
     },
     "execution_count": 23,
     "metadata": {},
     "output_type": "execute_result"
    }
   ],
   "source": [
    "#fiona supported drivers for df.tofile\n",
    "import fiona; fiona.supported_drivers\n"
   ]
  },
  {
   "cell_type": "code",
   "execution_count": 16,
   "metadata": {
    "collapsed": false
   },
   "outputs": [],
   "source": []
  }
 ],
 "metadata": {
  "anaconda-cloud": {},
  "kernelspec": {
   "display_name": "Python [default]",
   "language": "python",
   "name": "python2"
  },
  "language_info": {
   "codemirror_mode": {
    "name": "ipython",
    "version": 2
   },
   "file_extension": ".py",
   "mimetype": "text/x-python",
   "name": "python",
   "nbconvert_exporter": "python",
   "pygments_lexer": "ipython2",
   "version": "2.7.12"
  }
 },
 "nbformat": 4,
 "nbformat_minor": 0
}
